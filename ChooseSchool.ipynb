{
 "cells": [
  {
   "cell_type": "markdown",
   "id": "f2227740",
   "metadata": {},
   "source": [
    "# Проект Sumsung"
   ]
  },
  {
   "cell_type": "code",
   "execution_count": 1,
   "id": "4959fb79",
   "metadata": {},
   "outputs": [
    {
     "name": "stdout",
     "output_type": "stream",
     "text": [
      "Requirement already satisfied: pandas in c:\\users\\n\\anaconda3\\lib\\site-packages (from -r requirements.txt (line 1)) (1.4.2)\n",
      "Requirement already satisfied: numpy in c:\\users\\n\\anaconda3\\lib\\site-packages (from -r requirements.txt (line 2)) (1.21.5)\n",
      "Requirement already satisfied: yandex-geocoder in c:\\users\\n\\anaconda3\\lib\\site-packages (from -r requirements.txt (line 3)) (3.0.1)\n",
      "Requirement already satisfied: geopy in c:\\users\\n\\anaconda3\\lib\\site-packages (from -r requirements.txt (line 4)) (2.3.0)\n",
      "Requirement already satisfied: scikit-learn in c:\\users\\n\\anaconda3\\lib\\site-packages (from -r requirements.txt (line 5)) (1.0.2)\n",
      "Requirement already satisfied: ipyleaflet in c:\\users\\n\\anaconda3\\lib\\site-packages (from -r requirements.txt (line 6)) (0.17.3)\n",
      "Requirement already satisfied: ipywidgets in c:\\users\\n\\anaconda3\\lib\\site-packages (from -r requirements.txt (line 7)) (7.6.5)\n",
      "Requirement already satisfied: folium in c:\\users\\n\\anaconda3\\lib\\site-packages (from -r requirements.txt (line 8)) (0.14.0)\n",
      "Requirement already satisfied: pytz>=2020.1 in c:\\users\\n\\anaconda3\\lib\\site-packages (from pandas->-r requirements.txt (line 1)) (2021.3)\n",
      "Requirement already satisfied: python-dateutil>=2.8.1 in c:\\users\\n\\anaconda3\\lib\\site-packages (from pandas->-r requirements.txt (line 1)) (2.8.2)\n",
      "Requirement already satisfied: requests<3.0.0,>=2.28.1 in c:\\users\\n\\anaconda3\\lib\\site-packages (from yandex-geocoder->-r requirements.txt (line 3)) (2.31.0)\n",
      "Requirement already satisfied: geographiclib<3,>=1.52 in c:\\users\\n\\anaconda3\\lib\\site-packages (from geopy->-r requirements.txt (line 4)) (2.0)\n",
      "Requirement already satisfied: scipy>=1.1.0 in c:\\users\\n\\anaconda3\\lib\\site-packages (from scikit-learn->-r requirements.txt (line 5)) (1.7.3)\n",
      "Requirement already satisfied: threadpoolctl>=2.0.0 in c:\\users\\n\\anaconda3\\lib\\site-packages (from scikit-learn->-r requirements.txt (line 5)) (2.2.0)\n",
      "Requirement already satisfied: joblib>=0.11 in c:\\users\\n\\anaconda3\\lib\\site-packages (from scikit-learn->-r requirements.txt (line 5)) (1.1.0)\n",
      "Requirement already satisfied: branca>=0.5.0 in c:\\users\\n\\anaconda3\\lib\\site-packages (from ipyleaflet->-r requirements.txt (line 6)) (0.6.0)\n",
      "Requirement already satisfied: traittypes<3,>=0.2.1 in c:\\users\\n\\anaconda3\\lib\\site-packages (from ipyleaflet->-r requirements.txt (line 6)) (0.2.1)\n",
      "Requirement already satisfied: xyzservices>=2021.8.1 in c:\\users\\n\\anaconda3\\lib\\site-packages (from ipyleaflet->-r requirements.txt (line 6)) (2023.5.0)\n",
      "Requirement already satisfied: jupyterlab-widgets>=1.0.0 in c:\\users\\n\\anaconda3\\lib\\site-packages (from ipywidgets->-r requirements.txt (line 7)) (1.0.0)\n",
      "Requirement already satisfied: ipython-genutils~=0.2.0 in c:\\users\\n\\anaconda3\\lib\\site-packages (from ipywidgets->-r requirements.txt (line 7)) (0.2.0)\n",
      "Requirement already satisfied: widgetsnbextension~=3.5.0 in c:\\users\\n\\anaconda3\\lib\\site-packages (from ipywidgets->-r requirements.txt (line 7)) (3.5.2)\n",
      "Requirement already satisfied: ipykernel>=4.5.1 in c:\\users\\n\\anaconda3\\lib\\site-packages (from ipywidgets->-r requirements.txt (line 7)) (6.9.1)\n",
      "Requirement already satisfied: traitlets>=4.3.1 in c:\\users\\n\\anaconda3\\lib\\site-packages (from ipywidgets->-r requirements.txt (line 7)) (5.1.1)\n",
      "Requirement already satisfied: ipython>=4.0.0 in c:\\users\\n\\anaconda3\\lib\\site-packages (from ipywidgets->-r requirements.txt (line 7)) (8.2.0)\n",
      "Requirement already satisfied: nbformat>=4.2.0 in c:\\users\\n\\anaconda3\\lib\\site-packages (from ipywidgets->-r requirements.txt (line 7)) (5.3.0)\n",
      "Requirement already satisfied: jinja2>=2.9 in c:\\users\\n\\anaconda3\\lib\\site-packages (from folium->-r requirements.txt (line 8)) (2.11.3)\n",
      "Requirement already satisfied: jupyter-client<8.0 in c:\\users\\n\\anaconda3\\lib\\site-packages (from ipykernel>=4.5.1->ipywidgets->-r requirements.txt (line 7)) (6.1.12)\n",
      "Requirement already satisfied: matplotlib-inline<0.2.0,>=0.1.0 in c:\\users\\n\\anaconda3\\lib\\site-packages (from ipykernel>=4.5.1->ipywidgets->-r requirements.txt (line 7)) (0.1.2)\n",
      "Requirement already satisfied: debugpy<2.0,>=1.0.0 in c:\\users\\n\\anaconda3\\lib\\site-packages (from ipykernel>=4.5.1->ipywidgets->-r requirements.txt (line 7)) (1.5.1)\n",
      "Requirement already satisfied: nest-asyncio in c:\\users\\n\\anaconda3\\lib\\site-packages (from ipykernel>=4.5.1->ipywidgets->-r requirements.txt (line 7)) (1.5.5)\n",
      "Requirement already satisfied: tornado<7.0,>=4.2 in c:\\users\\n\\anaconda3\\lib\\site-packages (from ipykernel>=4.5.1->ipywidgets->-r requirements.txt (line 7)) (6.1)\n",
      "Requirement already satisfied: prompt-toolkit!=3.0.0,!=3.0.1,<3.1.0,>=2.0.0 in c:\\users\\n\\anaconda3\\lib\\site-packages (from ipython>=4.0.0->ipywidgets->-r requirements.txt (line 7)) (3.0.20)\n",
      "Requirement already satisfied: setuptools>=18.5 in c:\\users\\n\\anaconda3\\lib\\site-packages (from ipython>=4.0.0->ipywidgets->-r requirements.txt (line 7)) (61.2.0)\n",
      "Requirement already satisfied: backcall in c:\\users\\n\\anaconda3\\lib\\site-packages (from ipython>=4.0.0->ipywidgets->-r requirements.txt (line 7)) (0.2.0)\n",
      "Requirement already satisfied: jedi>=0.16 in c:\\users\\n\\anaconda3\\lib\\site-packages (from ipython>=4.0.0->ipywidgets->-r requirements.txt (line 7)) (0.18.1)\n",
      "Requirement already satisfied: decorator in c:\\users\\n\\anaconda3\\lib\\site-packages (from ipython>=4.0.0->ipywidgets->-r requirements.txt (line 7)) (5.1.1)\n",
      "Requirement already satisfied: pickleshare in c:\\users\\n\\anaconda3\\lib\\site-packages (from ipython>=4.0.0->ipywidgets->-r requirements.txt (line 7)) (0.7.5)\n",
      "Requirement already satisfied: colorama in c:\\users\\n\\anaconda3\\lib\\site-packages (from ipython>=4.0.0->ipywidgets->-r requirements.txt (line 7)) (0.4.4)\n",
      "Requirement already satisfied: pygments>=2.4.0 in c:\\users\\n\\anaconda3\\lib\\site-packages (from ipython>=4.0.0->ipywidgets->-r requirements.txt (line 7)) (2.11.2)\n",
      "Requirement already satisfied: stack-data in c:\\users\\n\\anaconda3\\lib\\site-packages (from ipython>=4.0.0->ipywidgets->-r requirements.txt (line 7)) (0.2.0)\n",
      "Requirement already satisfied: parso<0.9.0,>=0.8.0 in c:\\users\\n\\anaconda3\\lib\\site-packages (from jedi>=0.16->ipython>=4.0.0->ipywidgets->-r requirements.txt (line 7)) (0.8.3)\n",
      "Requirement already satisfied: MarkupSafe>=0.23 in c:\\users\\n\\anaconda3\\lib\\site-packages (from jinja2>=2.9->folium->-r requirements.txt (line 8)) (2.0.1)\n",
      "Requirement already satisfied: jupyter-core>=4.6.0 in c:\\users\\n\\anaconda3\\lib\\site-packages (from jupyter-client<8.0->ipykernel>=4.5.1->ipywidgets->-r requirements.txt (line 7)) (4.9.2)\n",
      "Requirement already satisfied: pyzmq>=13 in c:\\users\\n\\anaconda3\\lib\\site-packages (from jupyter-client<8.0->ipykernel>=4.5.1->ipywidgets->-r requirements.txt (line 7)) (22.3.0)\n",
      "Requirement already satisfied: pywin32>=1.0 in c:\\users\\n\\anaconda3\\lib\\site-packages (from jupyter-core>=4.6.0->jupyter-client<8.0->ipykernel>=4.5.1->ipywidgets->-r requirements.txt (line 7)) (302)\n",
      "Requirement already satisfied: jsonschema>=2.6 in c:\\users\\n\\anaconda3\\lib\\site-packages (from nbformat>=4.2.0->ipywidgets->-r requirements.txt (line 7)) (4.4.0)\n",
      "Requirement already satisfied: fastjsonschema in c:\\users\\n\\anaconda3\\lib\\site-packages (from nbformat>=4.2.0->ipywidgets->-r requirements.txt (line 7)) (2.15.1)\n",
      "Requirement already satisfied: pyrsistent!=0.17.0,!=0.17.1,!=0.17.2,>=0.14.0 in c:\\users\\n\\anaconda3\\lib\\site-packages (from jsonschema>=2.6->nbformat>=4.2.0->ipywidgets->-r requirements.txt (line 7)) (0.18.0)\n",
      "Requirement already satisfied: attrs>=17.4.0 in c:\\users\\n\\anaconda3\\lib\\site-packages (from jsonschema>=2.6->nbformat>=4.2.0->ipywidgets->-r requirements.txt (line 7)) (21.4.0)\n",
      "Requirement already satisfied: wcwidth in c:\\users\\n\\anaconda3\\lib\\site-packages (from prompt-toolkit!=3.0.0,!=3.0.1,<3.1.0,>=2.0.0->ipython>=4.0.0->ipywidgets->-r requirements.txt (line 7)) (0.2.5)\n",
      "Requirement already satisfied: six>=1.5 in c:\\users\\n\\anaconda3\\lib\\site-packages (from python-dateutil>=2.8.1->pandas->-r requirements.txt (line 1)) (1.16.0)\n",
      "Requirement already satisfied: charset-normalizer<4,>=2 in c:\\users\\n\\anaconda3\\lib\\site-packages (from requests<3.0.0,>=2.28.1->yandex-geocoder->-r requirements.txt (line 3)) (2.0.4)\n",
      "Requirement already satisfied: urllib3<3,>=1.21.1 in c:\\users\\n\\anaconda3\\lib\\site-packages (from requests<3.0.0,>=2.28.1->yandex-geocoder->-r requirements.txt (line 3)) (1.26.9)\n",
      "Requirement already satisfied: idna<4,>=2.5 in c:\\users\\n\\anaconda3\\lib\\site-packages (from requests<3.0.0,>=2.28.1->yandex-geocoder->-r requirements.txt (line 3)) (3.3)\n",
      "Requirement already satisfied: certifi>=2017.4.17 in c:\\users\\n\\anaconda3\\lib\\site-packages (from requests<3.0.0,>=2.28.1->yandex-geocoder->-r requirements.txt (line 3)) (2021.10.8)\n",
      "Requirement already satisfied: notebook>=4.4.1 in c:\\users\\n\\anaconda3\\lib\\site-packages (from widgetsnbextension~=3.5.0->ipywidgets->-r requirements.txt (line 7)) (6.4.8)\n",
      "Requirement already satisfied: prometheus-client in c:\\users\\n\\anaconda3\\lib\\site-packages (from notebook>=4.4.1->widgetsnbextension~=3.5.0->ipywidgets->-r requirements.txt (line 7)) (0.13.1)\n",
      "Requirement already satisfied: Send2Trash>=1.8.0 in c:\\users\\n\\anaconda3\\lib\\site-packages (from notebook>=4.4.1->widgetsnbextension~=3.5.0->ipywidgets->-r requirements.txt (line 7)) (1.8.0)\n",
      "Requirement already satisfied: argon2-cffi in c:\\users\\n\\anaconda3\\lib\\site-packages (from notebook>=4.4.1->widgetsnbextension~=3.5.0->ipywidgets->-r requirements.txt (line 7)) (21.3.0)\n",
      "Requirement already satisfied: nbconvert in c:\\users\\n\\anaconda3\\lib\\site-packages (from notebook>=4.4.1->widgetsnbextension~=3.5.0->ipywidgets->-r requirements.txt (line 7)) (6.4.4)\n",
      "Requirement already satisfied: terminado>=0.8.3 in c:\\users\\n\\anaconda3\\lib\\site-packages (from notebook>=4.4.1->widgetsnbextension~=3.5.0->ipywidgets->-r requirements.txt (line 7)) (0.13.1)\n",
      "Requirement already satisfied: pywinpty>=1.1.0 in c:\\users\\n\\anaconda3\\lib\\site-packages (from terminado>=0.8.3->notebook>=4.4.1->widgetsnbextension~=3.5.0->ipywidgets->-r requirements.txt (line 7)) (2.0.2)\n",
      "Requirement already satisfied: argon2-cffi-bindings in c:\\users\\n\\anaconda3\\lib\\site-packages (from argon2-cffi->notebook>=4.4.1->widgetsnbextension~=3.5.0->ipywidgets->-r requirements.txt (line 7)) (21.2.0)\n",
      "Requirement already satisfied: cffi>=1.0.1 in c:\\users\\n\\anaconda3\\lib\\site-packages (from argon2-cffi-bindings->argon2-cffi->notebook>=4.4.1->widgetsnbextension~=3.5.0->ipywidgets->-r requirements.txt (line 7)) (1.15.0)\n",
      "Requirement already satisfied: pycparser in c:\\users\\n\\anaconda3\\lib\\site-packages (from cffi>=1.0.1->argon2-cffi-bindings->argon2-cffi->notebook>=4.4.1->widgetsnbextension~=3.5.0->ipywidgets->-r requirements.txt (line 7)) (2.21)\n",
      "Requirement already satisfied: defusedxml in c:\\users\\n\\anaconda3\\lib\\site-packages (from nbconvert->notebook>=4.4.1->widgetsnbextension~=3.5.0->ipywidgets->-r requirements.txt (line 7)) (0.7.1)\n",
      "Requirement already satisfied: jupyterlab-pygments in c:\\users\\n\\anaconda3\\lib\\site-packages (from nbconvert->notebook>=4.4.1->widgetsnbextension~=3.5.0->ipywidgets->-r requirements.txt (line 7)) (0.1.2)\n",
      "Requirement already satisfied: entrypoints>=0.2.2 in c:\\users\\n\\anaconda3\\lib\\site-packages (from nbconvert->notebook>=4.4.1->widgetsnbextension~=3.5.0->ipywidgets->-r requirements.txt (line 7)) (0.4)\n",
      "Requirement already satisfied: nbclient<0.6.0,>=0.5.0 in c:\\users\\n\\anaconda3\\lib\\site-packages (from nbconvert->notebook>=4.4.1->widgetsnbextension~=3.5.0->ipywidgets->-r requirements.txt (line 7)) (0.5.13)\n",
      "Requirement already satisfied: bleach in c:\\users\\n\\anaconda3\\lib\\site-packages (from nbconvert->notebook>=4.4.1->widgetsnbextension~=3.5.0->ipywidgets->-r requirements.txt (line 7)) (4.1.0)\n",
      "Requirement already satisfied: beautifulsoup4 in c:\\users\\n\\anaconda3\\lib\\site-packages (from nbconvert->notebook>=4.4.1->widgetsnbextension~=3.5.0->ipywidgets->-r requirements.txt (line 7)) (4.11.1)\n",
      "Requirement already satisfied: mistune<2,>=0.8.1 in c:\\users\\n\\anaconda3\\lib\\site-packages (from nbconvert->notebook>=4.4.1->widgetsnbextension~=3.5.0->ipywidgets->-r requirements.txt (line 7)) (0.8.4)\n",
      "Requirement already satisfied: testpath in c:\\users\\n\\anaconda3\\lib\\site-packages (from nbconvert->notebook>=4.4.1->widgetsnbextension~=3.5.0->ipywidgets->-r requirements.txt (line 7)) (0.5.0)\n",
      "Requirement already satisfied: pandocfilters>=1.4.1 in c:\\users\\n\\anaconda3\\lib\\site-packages (from nbconvert->notebook>=4.4.1->widgetsnbextension~=3.5.0->ipywidgets->-r requirements.txt (line 7)) (1.5.0)\n",
      "Requirement already satisfied: soupsieve>1.2 in c:\\users\\n\\anaconda3\\lib\\site-packages (from beautifulsoup4->nbconvert->notebook>=4.4.1->widgetsnbextension~=3.5.0->ipywidgets->-r requirements.txt (line 7)) (2.3.1)\n",
      "Requirement already satisfied: packaging in c:\\users\\n\\anaconda3\\lib\\site-packages (from bleach->nbconvert->notebook>=4.4.1->widgetsnbextension~=3.5.0->ipywidgets->-r requirements.txt (line 7)) (21.3)\n",
      "Requirement already satisfied: webencodings in c:\\users\\n\\anaconda3\\lib\\site-packages (from bleach->nbconvert->notebook>=4.4.1->widgetsnbextension~=3.5.0->ipywidgets->-r requirements.txt (line 7)) (0.5.1)\n",
      "Requirement already satisfied: pyparsing!=3.0.5,>=2.0.2 in c:\\users\\n\\anaconda3\\lib\\site-packages (from packaging->bleach->nbconvert->notebook>=4.4.1->widgetsnbextension~=3.5.0->ipywidgets->-r requirements.txt (line 7)) (3.0.4)\n",
      "Requirement already satisfied: asttokens in c:\\users\\n\\anaconda3\\lib\\site-packages (from stack-data->ipython>=4.0.0->ipywidgets->-r requirements.txt (line 7)) (2.0.5)\n",
      "Requirement already satisfied: pure-eval in c:\\users\\n\\anaconda3\\lib\\site-packages (from stack-data->ipython>=4.0.0->ipywidgets->-r requirements.txt (line 7)) (0.2.2)\n",
      "Requirement already satisfied: executing in c:\\users\\n\\anaconda3\\lib\\site-packages (from stack-data->ipython>=4.0.0->ipywidgets->-r requirements.txt (line 7)) (0.8.3)\n"
     ]
    }
   ],
   "source": [
    "!pip install -r requirements.txt"
   ]
  },
  {
   "cell_type": "code",
   "execution_count": 9,
   "id": "225c0f6c",
   "metadata": {},
   "outputs": [
    {
     "name": "stdout",
     "output_type": "stream",
     "text": [
      "Введите свой адрес в формате улица дом:Путевой проезд, 8\n",
      "Адрес: Путевой проезд, 8\n",
      "Координаты [55.874769, 37.581119]\n"
     ]
    }
   ],
   "source": [
    "import pandas as pd\n",
    "import numpy as  np\n",
    "from yandex_geocoder import Client\n",
    "from geopy.distance import geodesic\n",
    "import ast\n",
    "import re\n",
    "import random\n",
    "from sklearn.preprocessing import MinMaxScaler\n",
    "from sklearn.neighbors import KNeighborsClassifier\n",
    "\n",
    "# Initialize the geocoder client\n",
    "client = Client(\"0f648b4c-4790-4e45-9195-b016a7729abf\")\n",
    "\n",
    "# User's coordinates\n",
    "a = input('Введите свой адрес в формате улица дом:')\n",
    "print('Адрес:', a)\n",
    "coordinates = client.coordinates(a)\n",
    "coordinate = re.sub(r'[A-z]+\\s?', '', str(coordinates)).strip()\n",
    "nums = re.findall(r'\\d*\\.\\d+|\\d+', coordinate) \n",
    "nums = [float(i) for i in nums]\n",
    "m = nums[0]\n",
    "nums[0]= nums[1]\n",
    "nums[1] = m\n",
    "print('Координаты', nums)\n",
    "\n",
    "# Read and process coordinates data\n",
    "cord = pd.read_csv('coordinates.csv')\n",
    "coord_list = [ast.literal_eval(coord) for coord in cord['Coordinates']]\n",
    "\n",
    "# Calculate distances\n",
    "distances = [geodesic(coordinates, coord).km for coord in coord_list]\n",
    "\n",
    "# Now distances[i] corresponds to the distance to the i-th coordinate\n",
    "\n",
    "# Schools' attributes (replace these with your actual data)\n",
    "workload = [(random.random() * (101 - 51) + 51) for _ in range(497)]  # workload percentages for each school\n",
    "feedback = [random.random() * (5 - 2) + 2 for _ in range(497)]   # feedback scores for each school\n"
   ]
  },
  {
   "cell_type": "code",
   "execution_count": 1,
   "id": "07dd916c",
   "metadata": {},
   "outputs": [
    {
     "name": "stdout",
     "output_type": "stream",
     "text": [
      "Оцените приоритетность близости школы от 0 до 10:\n"
     ]
    },
    {
     "data": {
      "application/vnd.jupyter.widget-view+json": {
       "model_id": "51af0b10942e4b2488df0f4dead63a7b",
       "version_major": 2,
       "version_minor": 0
      },
      "text/plain": [
       "IntSlider(value=0, max=10)"
      ]
     },
     "metadata": {},
     "output_type": "display_data"
    },
    {
     "name": "stdout",
     "output_type": "stream",
     "text": [
      "Оцените приоритетность заполненности школы от 0 до 10:\n"
     ]
    },
    {
     "data": {
      "application/vnd.jupyter.widget-view+json": {
       "model_id": "3f8440875b9947c5939928079bda8a5d",
       "version_major": 2,
       "version_minor": 0
      },
      "text/plain": [
       "IntSlider(value=0, max=10)"
      ]
     },
     "metadata": {},
     "output_type": "display_data"
    },
    {
     "name": "stdout",
     "output_type": "stream",
     "text": [
      "Оцените приоритетность рейтинга школы от 0 до 10:\n"
     ]
    },
    {
     "data": {
      "application/vnd.jupyter.widget-view+json": {
       "model_id": "0eb92e799f1643f9b6ccafaddb0c030b",
       "version_major": 2,
       "version_minor": 0
      },
      "text/plain": [
       "IntSlider(value=0, max=10)"
      ]
     },
     "metadata": {},
     "output_type": "display_data"
    }
   ],
   "source": [
    "import ipywidgets as widgets\n",
    "from IPython.display import display\n",
    "\n",
    "# Ввод данных пользователем через слайдеры\n",
    "# важность\n",
    "print('Оцените приоритетность близости школы от 0 до 10:')\n",
    "slider1 = widgets.IntSlider(\n",
    "    min=0,\n",
    "    max=10,\n",
    "    step=1,\n",
    "    description='',\n",
    "    value=0)\n",
    "display(slider1)\n",
    "\n",
    "print('Оцените приоритетность заполненности школы от 0 до 10:')\n",
    "slider2 = widgets.IntSlider(\n",
    "    min=0,\n",
    "    max=10,\n",
    "    step=1,\n",
    "    description='',\n",
    "    value=0)\n",
    "display(slider2)\n",
    "\n",
    "print('Оцените приоритетность рейтинга школы от 0 до 10:')\n",
    "slider3 = widgets.IntSlider(\n",
    "    min=0,\n",
    "    max=10,\n",
    "    step=1,\n",
    "    description='',\n",
    "    value=0)\n",
    "display(slider3)"
   ]
  },
  {
   "cell_type": "code",
   "execution_count": 11,
   "id": "d7ce3be1",
   "metadata": {},
   "outputs": [
    {
     "name": "stdout",
     "output_type": "stream",
     "text": [
      "Адрес школы: 127540, ГОРОД МОСКВА, ПРОЕЗД КЕРАМИЧЕСКИЙ, ДОМ 47А\n",
      "Рейтинг школы: 4.8498025659648185\n",
      "Заполненность школы: 86.8242796638155\n",
      "ГБОУ школа № 1794\n"
     ]
    }
   ],
   "source": [
    "d = slider1.value/10\n",
    "w = slider2.value/10\n",
    "f = slider3.value/10\n",
    "# Importance of attributes\n",
    "weights = [d, w, f]\n",
    "\n",
    "\n",
    "# Parameters for schools\n",
    "X = np.array([distances, workload, [5 - f for f in feedback]]).T\n",
    "y = list(range(len(distances)))\n",
    "\n",
    "# Normalize parameters\n",
    "scaler = MinMaxScaler()\n",
    "scaler.fit(X)\n",
    "X_scaled = scaler.transform(X)\n",
    "\n",
    "X_w = X_scaled * np.array(weights)\n",
    "\n",
    "# Train classifier\n",
    "neigh = KNeighborsClassifier(n_neighbors=1)\n",
    "neigh.fit(X_w, y)\n",
    "#print('Лучший результат', neigh.predict_proba([[0,0,0]]))\n",
    "pred_index = neigh.predict([[0,0,0]])\n",
    "#Вывод результатов\n",
    "sch = pd.read_csv('school_data.csv')\n",
    "Name = sch['ShortName'][pred_index[0]]\n",
    "predicted_address = cord['LegalAddress'][pred_index[0]]\n",
    "predicted_cord = cord['Coordinates'][pred_index[0]]\n",
    "n = re.findall(r'\\d*\\.\\d+|\\d+', predicted_cord) \n",
    "n = [float(i) for i in n]\n",
    "b = n[0]\n",
    "n[0]= n[1]\n",
    "n[1] = b\n",
    "SchoolsFeedback = feedback[pred_index[0]]\n",
    "SchoolsWorkload = workload[pred_index[0]]\n",
    "print('Адрес школы:', predicted_address)\n",
    "#print('Predicted Coordinates:', predicted_cord, n)\n",
    "print('Рейтинг школы:',SchoolsFeedback)\n",
    "print('Заполненность школы:',SchoolsWorkload)\n",
    "print(Name)"
   ]
  },
  {
   "cell_type": "code",
   "execution_count": 12,
   "id": "07a98b92",
   "metadata": {},
   "outputs": [
    {
     "data": {
      "text/html": [
       "<div style=\"width:100%;\"><div style=\"position:relative;width:100%;height:0;padding-bottom:60%;\"><span style=\"color:#565656\">Make this Notebook Trusted to load map: File -> Trust Notebook</span><iframe srcdoc=\"&lt;!DOCTYPE html&gt;\n",
       "&lt;html&gt;\n",
       "&lt;head&gt;\n",
       "    \n",
       "    &lt;meta http-equiv=&quot;content-type&quot; content=&quot;text/html; charset=UTF-8&quot; /&gt;\n",
       "    \n",
       "        &lt;script&gt;\n",
       "            L_NO_TOUCH = false;\n",
       "            L_DISABLE_3D = false;\n",
       "        &lt;/script&gt;\n",
       "    \n",
       "    &lt;style&gt;html, body {width: 100%;height: 100%;margin: 0;padding: 0;}&lt;/style&gt;\n",
       "    &lt;style&gt;#map {position:absolute;top:0;bottom:0;right:0;left:0;}&lt;/style&gt;\n",
       "    &lt;script src=&quot;https://cdn.jsdelivr.net/npm/leaflet@1.9.3/dist/leaflet.js&quot;&gt;&lt;/script&gt;\n",
       "    &lt;script src=&quot;https://code.jquery.com/jquery-1.12.4.min.js&quot;&gt;&lt;/script&gt;\n",
       "    &lt;script src=&quot;https://cdn.jsdelivr.net/npm/bootstrap@5.2.2/dist/js/bootstrap.bundle.min.js&quot;&gt;&lt;/script&gt;\n",
       "    &lt;script src=&quot;https://cdnjs.cloudflare.com/ajax/libs/Leaflet.awesome-markers/2.0.2/leaflet.awesome-markers.js&quot;&gt;&lt;/script&gt;\n",
       "    &lt;link rel=&quot;stylesheet&quot; href=&quot;https://cdn.jsdelivr.net/npm/leaflet@1.9.3/dist/leaflet.css&quot;/&gt;\n",
       "    &lt;link rel=&quot;stylesheet&quot; href=&quot;https://cdn.jsdelivr.net/npm/bootstrap@5.2.2/dist/css/bootstrap.min.css&quot;/&gt;\n",
       "    &lt;link rel=&quot;stylesheet&quot; href=&quot;https://netdna.bootstrapcdn.com/bootstrap/3.0.0/css/bootstrap.min.css&quot;/&gt;\n",
       "    &lt;link rel=&quot;stylesheet&quot; href=&quot;https://cdn.jsdelivr.net/npm/@fortawesome/fontawesome-free@6.2.0/css/all.min.css&quot;/&gt;\n",
       "    &lt;link rel=&quot;stylesheet&quot; href=&quot;https://cdnjs.cloudflare.com/ajax/libs/Leaflet.awesome-markers/2.0.2/leaflet.awesome-markers.css&quot;/&gt;\n",
       "    &lt;link rel=&quot;stylesheet&quot; href=&quot;https://cdn.jsdelivr.net/gh/python-visualization/folium/folium/templates/leaflet.awesome.rotate.min.css&quot;/&gt;\n",
       "    \n",
       "            &lt;meta name=&quot;viewport&quot; content=&quot;width=device-width,\n",
       "                initial-scale=1.0, maximum-scale=1.0, user-scalable=no&quot; /&gt;\n",
       "            &lt;style&gt;\n",
       "                #map_c7d66f20975165d16aa0b91db5133dc2 {\n",
       "                    position: relative;\n",
       "                    width: 100.0%;\n",
       "                    height: 100.0%;\n",
       "                    left: 0.0%;\n",
       "                    top: 0.0%;\n",
       "                }\n",
       "                .leaflet-container { font-size: 1rem; }\n",
       "            &lt;/style&gt;\n",
       "        \n",
       "&lt;/head&gt;\n",
       "&lt;body&gt;\n",
       "    \n",
       "    \n",
       "            &lt;div class=&quot;folium-map&quot; id=&quot;map_c7d66f20975165d16aa0b91db5133dc2&quot; &gt;&lt;/div&gt;\n",
       "        \n",
       "&lt;/body&gt;\n",
       "&lt;script&gt;\n",
       "    \n",
       "    \n",
       "            var map_c7d66f20975165d16aa0b91db5133dc2 = L.map(\n",
       "                &quot;map_c7d66f20975165d16aa0b91db5133dc2&quot;,\n",
       "                {\n",
       "                    center: [55.874769, 37.581119],\n",
       "                    crs: L.CRS.EPSG3857,\n",
       "                    zoom: 17,\n",
       "                    zoomControl: true,\n",
       "                    preferCanvas: false,\n",
       "                }\n",
       "            );\n",
       "\n",
       "            \n",
       "\n",
       "        \n",
       "    \n",
       "            var tile_layer_0c391c4042c037d4a1b93bccbe6ee895 = L.tileLayer(\n",
       "                &quot;https://{s}.tile.openstreetmap.org/{z}/{x}/{y}.png&quot;,\n",
       "                {&quot;attribution&quot;: &quot;Data by \\u0026copy; \\u003ca target=\\&quot;_blank\\&quot; href=\\&quot;http://openstreetmap.org\\&quot;\\u003eOpenStreetMap\\u003c/a\\u003e, under \\u003ca target=\\&quot;_blank\\&quot; href=\\&quot;http://www.openstreetmap.org/copyright\\&quot;\\u003eODbL\\u003c/a\\u003e.&quot;, &quot;detectRetina&quot;: false, &quot;maxNativeZoom&quot;: 18, &quot;maxZoom&quot;: 18, &quot;minZoom&quot;: 0, &quot;noWrap&quot;: false, &quot;opacity&quot;: 1, &quot;subdomains&quot;: &quot;abc&quot;, &quot;tms&quot;: false}\n",
       "            ).addTo(map_c7d66f20975165d16aa0b91db5133dc2);\n",
       "        \n",
       "    \n",
       "            var marker_823498b61014d30fc614febb70916052 = L.marker(\n",
       "                [55.872481, 37.566368],\n",
       "                {}\n",
       "            ).addTo(map_c7d66f20975165d16aa0b91db5133dc2);\n",
       "        \n",
       "    \n",
       "            var icon_d355a9e4f2fe16afbc349177d3f14649 = L.AwesomeMarkers.icon(\n",
       "                {&quot;extraClasses&quot;: &quot;fa-rotate-0&quot;, &quot;icon&quot;: &quot;info-sign&quot;, &quot;iconColor&quot;: &quot;white&quot;, &quot;markerColor&quot;: &quot;red&quot;, &quot;prefix&quot;: &quot;glyphicon&quot;}\n",
       "            );\n",
       "            marker_823498b61014d30fc614febb70916052.setIcon(icon_d355a9e4f2fe16afbc349177d3f14649);\n",
       "        \n",
       "    \n",
       "        var popup_25b5e9eff5fa37af8aa1dfada25f81c5 = L.popup({&quot;maxWidth&quot;: &quot;100%&quot;});\n",
       "\n",
       "        \n",
       "            \n",
       "                var html_da7a9bf20ccaff59969168de87a619d0 = $(`&lt;div id=&quot;html_da7a9bf20ccaff59969168de87a619d0&quot; style=&quot;width: 100.0%; height: 100.0%;&quot;&gt;ГБОУ школа № 1794&lt;/div&gt;`)[0];\n",
       "                popup_25b5e9eff5fa37af8aa1dfada25f81c5.setContent(html_da7a9bf20ccaff59969168de87a619d0);\n",
       "            \n",
       "        \n",
       "\n",
       "        marker_823498b61014d30fc614febb70916052.bindPopup(popup_25b5e9eff5fa37af8aa1dfada25f81c5)\n",
       "        ;\n",
       "\n",
       "        \n",
       "    \n",
       "    \n",
       "            var marker_d4b7d6a8426e4e91d45a155c9d07e108 = L.marker(\n",
       "                [55.874769, 37.581119],\n",
       "                {}\n",
       "            ).addTo(map_c7d66f20975165d16aa0b91db5133dc2);\n",
       "        \n",
       "    \n",
       "        var popup_a10576dee74ffb361d4e0e4167ae0573 = L.popup({&quot;maxWidth&quot;: &quot;100%&quot;});\n",
       "\n",
       "        \n",
       "            \n",
       "                var html_6e8b081fdfa7195c1bc9c1a85616163e = $(`&lt;div id=&quot;html_6e8b081fdfa7195c1bc9c1a85616163e&quot; style=&quot;width: 100.0%; height: 100.0%;&quot;&gt;Ваш дом&lt;/div&gt;`)[0];\n",
       "                popup_a10576dee74ffb361d4e0e4167ae0573.setContent(html_6e8b081fdfa7195c1bc9c1a85616163e);\n",
       "            \n",
       "        \n",
       "\n",
       "        marker_d4b7d6a8426e4e91d45a155c9d07e108.bindPopup(popup_a10576dee74ffb361d4e0e4167ae0573)\n",
       "        ;\n",
       "\n",
       "        \n",
       "    \n",
       "&lt;/script&gt;\n",
       "&lt;/html&gt;\" style=\"position:absolute;width:100%;height:100%;left:0;top:0;border:none !important;\" allowfullscreen webkitallowfullscreen mozallowfullscreen></iframe></div></div>"
      ],
      "text/plain": [
       "<folium.folium.Map at 0x206d4b99ee0>"
      ]
     },
     "execution_count": 12,
     "metadata": {},
     "output_type": "execute_result"
    }
   ],
   "source": [
    "#Создание карты\n",
    "import folium\n",
    "\n",
    "# Import folium MarkerCluster plugin\n",
    "from folium.plugins import MarkerCluster\n",
    "# Import folium DivIcon plugin\n",
    "from folium.features import DivIcon\n",
    "\n",
    "# generate map\n",
    "Moscow_map = folium.Map(\n",
    "    location = nums, # За центр берётся локация ползователя\n",
    "    zoom_start = 17\n",
    ")\n",
    "\n",
    "\n",
    "folium.Marker(n,   # координаты школы\n",
    "popup = Name, \n",
    "icon=folium.Icon(color=\"red\", icon=\"info-sign\")\n",
    ").add_to(Moscow_map)\n",
    "folium.Marker(nums,   # координаты пользователя\n",
    "popup = 'Ваш дом').add_to(Moscow_map)\n",
    "\n",
    "# display map\n",
    "Moscow_map"
   ]
  },
  {
   "cell_type": "code",
   "execution_count": null,
   "id": "a7c70d13",
   "metadata": {},
   "outputs": [],
   "source": []
  }
 ],
 "metadata": {
  "kernelspec": {
   "display_name": "Python 3 (ipykernel)",
   "language": "python",
   "name": "python3"
  },
  "language_info": {
   "codemirror_mode": {
    "name": "ipython",
    "version": 3
   },
   "file_extension": ".py",
   "mimetype": "text/x-python",
   "name": "python",
   "nbconvert_exporter": "python",
   "pygments_lexer": "ipython3",
   "version": "3.9.12"
  }
 },
 "nbformat": 4,
 "nbformat_minor": 5
}
